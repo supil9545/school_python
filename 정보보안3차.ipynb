{
 "cells": [
  {
   "cell_type": "code",
   "execution_count": 30,
   "metadata": {},
   "outputs": [
    {
     "name": "stdout",
     "output_type": "stream",
     "text": [
      "학생 이름을 입력하세요: jwa see gen algo see mike jwa\n",
      "동명인의 이름은:['see', 'jwa']\n"
     ]
    }
   ],
   "source": [
    "pt = []\n",
    "re = []\n",
    "li = input('학생 이름을 입력하세요: ').split()\n",
    "def dup(li):\n",
    "    for i in li:\n",
    "        if i not in pt:\n",
    "            pt.append(i) \n",
    "            continue\n",
    "        else:\n",
    "            re.append(i)\n",
    "    return print('동명인의 이름은:%s'%re)\n",
    "dup(li)"
   ]
  },
  {
   "cell_type": "code",
   "execution_count": 29,
   "metadata": {},
   "outputs": [
    {
     "name": "stdout",
     "output_type": "stream",
     "text": [
      "4 2 3\n",
      "1 6 5\n",
      "24\n"
     ]
    }
   ],
   "source": [
    "a = input()\n",
    "b = input()\n",
    "def mul(a,b):\n",
    "    a = max(a)\n",
    "    b = max(b)\n",
    "    a = int(a)\n",
    "    b = int(b)\n",
    "    return a*b\n",
    "print(mul(a,b))"
   ]
  },
  {
   "cell_type": "code",
   "execution_count": null,
   "metadata": {},
   "outputs": [],
   "source": []
  }
 ],
 "metadata": {
  "kernelspec": {
   "display_name": "Python 3",
   "language": "python",
   "name": "python3"
  },
  "language_info": {
   "codemirror_mode": {
    "name": "ipython",
    "version": 3
   },
   "file_extension": ".py",
   "mimetype": "text/x-python",
   "name": "python",
   "nbconvert_exporter": "python",
   "pygments_lexer": "ipython3",
   "version": "3.7.6"
  }
 },
 "nbformat": 4,
 "nbformat_minor": 4
}
