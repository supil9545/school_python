{
 "cells": [
  {
   "cell_type": "code",
   "execution_count": 2,
   "metadata": {},
   "outputs": [
    {
     "name": "stdout",
     "output_type": "stream",
     "text": [
      "01057907290\n",
      "09270975010\n"
     ]
    }
   ],
   "source": [
    "n = list(input())\n",
    "\n",
    "def reverse():\n",
    "        print(''.join(reversed(n)))\n",
    "\n",
    "reverse()"
   ]
  },
  {
   "cell_type": "code",
   "execution_count": 3,
   "metadata": {
    "scrolled": true
   },
   "outputs": [
    {
     "name": "stdout",
     "output_type": "stream",
     "text": [
      "2\n",
      "소수입니다\n"
     ]
    }
   ],
   "source": [
    "n = int(input())\n",
    "\n",
    "def sosu(n):\n",
    "        if n < 2:\n",
    "            print('1입니다.') \n",
    "            return\n",
    "        for i in range(2,n):\n",
    "            if n%i == 0:\n",
    "                print('합성수입니다.') \n",
    "                return\n",
    "        print('소수입니다') \n",
    "        return\n",
    "        \n",
    "sosu(n)"
   ]
  },
  {
   "cell_type": "code",
   "execution_count": 24,
   "metadata": {},
   "outputs": [],
   "source": [
    "for i in range(2,2):\n",
    "    print(i)"
   ]
  },
  {
   "cell_type": "code",
   "execution_count": 35,
   "metadata": {},
   "outputs": [
    {
     "name": "stdout",
     "output_type": "stream",
     "text": [
      "15\n",
      "2은 소수입니다\n",
      "3은 소수입니다\n",
      "4은 합성수입니다.\n",
      "5은 소수입니다\n",
      "6은 합성수입니다.\n",
      "7은 소수입니다\n",
      "8은 합성수입니다.\n",
      "9은 합성수입니다.\n",
      "10은 합성수입니다.\n",
      "11은 소수입니다\n",
      "12은 합성수입니다.\n",
      "13은 소수입니다\n",
      "14은 합성수입니다.\n",
      "15은 합성수입니다.\n"
     ]
    }
   ],
   "source": [
    "n = int(input())\n",
    "\n",
    "def sosu_2(n):\n",
    "    for i in range(2, n+1):            \n",
    "        for j in range(2,i+1):\n",
    "            if i%j == 0:\n",
    "                break\n",
    "        if i==j:\n",
    "            print('{}은 소수입니다'.format(i))\n",
    "        else :\n",
    "            print('{}은 합성수입니다.'.format(i)) \n",
    "\n",
    "        \n",
    "                \n",
    "sosu_2(n)"
   ]
  }
 ],
 "metadata": {
  "kernelspec": {
   "display_name": "Python 3",
   "language": "python",
   "name": "python3"
  },
  "language_info": {
   "codemirror_mode": {
    "name": "ipython",
    "version": 3
   },
   "file_extension": ".py",
   "mimetype": "text/x-python",
   "name": "python",
   "nbconvert_exporter": "python",
   "pygments_lexer": "ipython3",
   "version": "3.7.6"
  }
 },
 "nbformat": 4,
 "nbformat_minor": 4
}
