{
 "cells": [
  {
   "cell_type": "code",
   "execution_count": 34,
   "metadata": {},
   "outputs": [
    {
     "name": "stdout",
     "output_type": "stream",
     "text": [
      "3 6\n",
      "370368\n"
     ]
    }
   ],
   "source": [
    "n,m = map(int, input().split())\n",
    "sum=0\n",
    "for j in range(1, m+1):\n",
    "    tp = 0\n",
    "    for i in range(1, j):\n",
    "        tp+=10**i*n\n",
    "    tp+=n\n",
    "    sum+=tp\n",
    "print(sum)"
   ]
  },
  {
   "cell_type": "code",
   "execution_count": 20,
   "metadata": {},
   "outputs": [
    {
     "name": "stdout",
     "output_type": "stream",
     "text": [
      "8668821\n",
      "39\n"
     ]
    }
   ],
   "source": [
    "sum = 0\n",
    "n = input()\n",
    "n = list(map(int, n))\n",
    "for a in n:\n",
    "    sum+=a\n",
    "print(sum)"
   ]
  },
  {
   "cell_type": "code",
   "execution_count": 31,
   "metadata": {},
   "outputs": [
    {
     "name": "stdout",
     "output_type": "stream",
     "text": [
      "12345\n",
      "5\n",
      "4\n",
      "3\n",
      "2\n",
      "1\n",
      "15\n"
     ]
    }
   ],
   "source": [
    "sum = 0\n",
    "n = input()\n",
    "n = list(map(int, n))\n",
    "n = reversed(n)\n",
    "for a in n:\n",
    "    sum+=a\n",
    "print(sum)"
   ]
  }
 ],
 "metadata": {
  "kernelspec": {
   "display_name": "Python 3",
   "language": "python",
   "name": "python3"
  },
  "language_info": {
   "codemirror_mode": {
    "name": "ipython",
    "version": 3
   },
   "file_extension": ".py",
   "mimetype": "text/x-python",
   "name": "python",
   "nbconvert_exporter": "python",
   "pygments_lexer": "ipython3",
   "version": "3.7.6"
  }
 },
 "nbformat": 4,
 "nbformat_minor": 4
}
